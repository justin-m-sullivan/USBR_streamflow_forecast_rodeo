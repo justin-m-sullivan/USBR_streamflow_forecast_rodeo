{
 "cells": [
  {
   "cell_type": "markdown",
   "metadata": {},
   "source": [
    "# Acquire"
   ]
  },
  {
   "cell_type": "code",
   "execution_count": 5,
   "metadata": {},
   "outputs": [],
   "source": [
    "import pandas as pd\n",
    "import requests\n",
    "import sys\n",
    "from datetime import datetime, timedelta\n",
    "import os\n",
    "from get_gt_yearlong import get_gt"
   ]
  },
  {
   "cell_type": "markdown",
   "metadata": {},
   "source": [
    "**Steps to Acquire the Base Truth Data**\n",
    "- Step 1:\n",
    "    - Locally download the get_gt_yearlong helper functions from: https://drive.google.com/file/d/1sUa_cHRnbluQETulHE_zMckP9aCSCV_s/view?usp=sharing \n",
    "\n",
    "- Step 2:\n",
    "    - Navigate to the get_gt_yearlong folder in your terminal and execuet the following command:\n",
    "    ```\n",
    "    python3 get_gt.py 'streamflow.csv' 2016-1-1 2020-12-31\n",
    "    ```\n",
    "    \n",
    "- Step 3:\n",
    "    - Read in the csv using pandas"
   ]
  },
  {
   "cell_type": "code",
   "execution_count": 6,
   "metadata": {},
   "outputs": [
    {
     "data": {
      "text/html": [
       "<div>\n",
       "<style scoped>\n",
       "    .dataframe tbody tr th:only-of-type {\n",
       "        vertical-align: middle;\n",
       "    }\n",
       "\n",
       "    .dataframe tbody tr th {\n",
       "        vertical-align: top;\n",
       "    }\n",
       "\n",
       "    .dataframe thead th {\n",
       "        text-align: right;\n",
       "    }\n",
       "</style>\n",
       "<table border=\"1\" class=\"dataframe\">\n",
       "  <thead>\n",
       "    <tr style=\"text-align: right;\">\n",
       "      <th></th>\n",
       "      <th>DateTime</th>\n",
       "      <th>LocationID</th>\n",
       "      <th>Value</th>\n",
       "      <th>Units</th>\n",
       "    </tr>\n",
       "  </thead>\n",
       "  <tbody>\n",
       "    <tr>\n",
       "      <th>0</th>\n",
       "      <td>2016-01-08T12</td>\n",
       "      <td>NFSW4</td>\n",
       "      <td>173</td>\n",
       "      <td>CFS</td>\n",
       "    </tr>\n",
       "    <tr>\n",
       "      <th>1</th>\n",
       "      <td>2016-01-08T18</td>\n",
       "      <td>NFSW4</td>\n",
       "      <td>167</td>\n",
       "      <td>CFS</td>\n",
       "    </tr>\n",
       "    <tr>\n",
       "      <th>2</th>\n",
       "      <td>2016-01-09T00</td>\n",
       "      <td>NFSW4</td>\n",
       "      <td>171</td>\n",
       "      <td>CFS</td>\n",
       "    </tr>\n",
       "    <tr>\n",
       "      <th>3</th>\n",
       "      <td>2016-01-09T06</td>\n",
       "      <td>NFSW4</td>\n",
       "      <td>167</td>\n",
       "      <td>CFS</td>\n",
       "    </tr>\n",
       "    <tr>\n",
       "      <th>4</th>\n",
       "      <td>2016-01-09T12</td>\n",
       "      <td>NFSW4</td>\n",
       "      <td>165</td>\n",
       "      <td>CFS</td>\n",
       "    </tr>\n",
       "  </tbody>\n",
       "</table>\n",
       "</div>"
      ],
      "text/plain": [
       "        DateTime LocationID Value Units\n",
       "0  2016-01-08T12      NFSW4   173   CFS\n",
       "1  2016-01-08T18      NFSW4   167   CFS\n",
       "2  2016-01-09T00      NFSW4   171   CFS\n",
       "3  2016-01-09T06      NFSW4   167   CFS\n",
       "4  2016-01-09T12      NFSW4   165   CFS"
      ]
     },
     "execution_count": 6,
     "metadata": {},
     "output_type": "execute_result"
    }
   ],
   "source": [
    "#Read in the data from the locally stored csv file\n",
    "df = pd.read_csv('streamflow.csv') \n",
    "df.head()"
   ]
  },
  {
   "cell_type": "code",
   "execution_count": null,
   "metadata": {},
   "outputs": [],
   "source": []
  }
 ],
 "metadata": {
  "kernelspec": {
   "display_name": "Python 3",
   "language": "python",
   "name": "python3"
  },
  "language_info": {
   "codemirror_mode": {
    "name": "ipython",
    "version": 3
   },
   "file_extension": ".py",
   "mimetype": "text/x-python",
   "name": "python",
   "nbconvert_exporter": "python",
   "pygments_lexer": "ipython3",
   "version": "3.8.5"
  }
 },
 "nbformat": 4,
 "nbformat_minor": 4
}
